{
 "cells": [
  {
   "cell_type": "code",
   "execution_count": 1,
   "id": "d12ff5e0-d41f-40d3-a669-e1cb097b20f8",
   "metadata": {},
   "outputs": [
    {
     "name": "stdout",
     "output_type": "stream",
     "text": [
      "Test case 1: 5 3 78 3 23 7 34\n",
      "Sorted output: [78, 34, 23, 7, 5, 3, 3]\n",
      "\n",
      "Test case 2: 10 9 8 7 6 5 4 3 2 1\n",
      "Sorted output: [10, 9, 8, 7, 6, 5, 4, 3, 2, 1]\n",
      "\n",
      "Test case 3: 1 1 1 1 1 1 1 1\n",
      "Sorted output: [1, 1, 1, 1, 1, 1, 1, 1]\n",
      "\n",
      "Test case 4: 100 50 25 75 30\n",
      "Sorted output: [100, 75, 50, 30, 25]\n",
      "\n"
     ]
    }
   ],
   "source": [
    "def gnome_sort(arr):\n",
    "    n = len(arr)\n",
    "    index = 0\n",
    "    \n",
    "    while index < n:\n",
    "        if index == 0:\n",
    "            index += 1\n",
    "        if arr[index] <= arr[index - 1]:\n",
    "            index += 1\n",
    "        else:\n",
    "            arr[index], arr[index - 1] = arr[index - 1], arr[index]\n",
    "            index -= 1\n",
    "    return arr\n",
    "\n",
    "def is_valid_input(user_input):\n",
    "    try:\n",
    "        arr = list(map(int, user_input.split()))\n",
    "        return arr\n",
    "    except ValueError:\n",
    "        return None\n",
    "\n",
    "def test_gnome_sort():\n",
    "    test_cases = [\n",
    "        \"5 3 78 3 23 7 34\",\n",
    "        \"10 9 8 7 6 5 4 3 2 1\",\n",
    "        \"1 1 1 1 1 1 1 1\",\n",
    "        \"100 50 25 75 30\"\n",
    "    ]\n",
    "    \n",
    "    for i, case in enumerate(test_cases):\n",
    "        print(f\"Test case {i + 1}: {case}\")\n",
    "        arr = is_valid_input(case)\n",
    "        if arr is not None:\n",
    "            sorted_arr = gnome_sort(arr)\n",
    "            print(f\"Sorted output: {sorted_arr}\\n\")\n",
    "        else:\n",
    "            print(\"Invalid input. Please enter integers separated by spaces.\\n\")\n",
    "\n",
    "test_gnome_sort()"
   ]
  },
  {
   "cell_type": "code",
   "execution_count": null,
   "id": "fa74917e-080d-48fb-8079-c8ed0cf08b55",
   "metadata": {},
   "outputs": [],
   "source": []
  }
 ],
 "metadata": {
  "kernelspec": {
   "display_name": "Python 3 (ipykernel)",
   "language": "python",
   "name": "python3"
  },
  "language_info": {
   "codemirror_mode": {
    "name": "ipython",
    "version": 3
   },
   "file_extension": ".py",
   "mimetype": "text/x-python",
   "name": "python",
   "nbconvert_exporter": "python",
   "pygments_lexer": "ipython3",
   "version": "3.12.5"
  }
 },
 "nbformat": 4,
 "nbformat_minor": 5
}
